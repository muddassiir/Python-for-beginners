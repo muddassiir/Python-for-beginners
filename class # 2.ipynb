{
 "cells": [
  {
   "cell_type": "code",
   "execution_count": 2,
   "metadata": {},
   "outputs": [
    {
     "name": "stdout",
     "output_type": "stream",
     "text": [
      "C\n",
      "S\n",
      " \n",
      "k\n",
      "n\n",
      "o\n",
      "c\n",
      "k\n",
      "s\n"
     ]
    }
   ],
   "source": [
    "a=\"CS knocks\"\n",
    "for i in a:\n",
    "    print(i)"
   ]
  },
  {
   "cell_type": "code",
   "execution_count": 6,
   "metadata": {},
   "outputs": [
    {
     "name": "stdout",
     "output_type": "stream",
     "text": [
      "cs knock\n",
      "cs knock\n",
      "cs knock\n",
      "cs knock\n"
     ]
    }
   ],
   "source": [
    "print(\"cs knock\")\n",
    "print(\"cs knock\")\n",
    "print(\"cs knock\")\n",
    "print(\"cs knock\")\n"
   ]
  },
  {
   "cell_type": "code",
   "execution_count": 7,
   "metadata": {},
   "outputs": [
    {
     "name": "stdout",
     "output_type": "stream",
     "text": [
      "cs knock\n",
      "cs knock\n",
      "cs knock\n",
      "cs knock\n",
      "cs knock\n",
      "cs knock\n",
      "cs knock\n",
      "cs knock\n",
      "cs knock\n",
      "cs knock\n",
      "cs knock\n",
      "cs knock\n"
     ]
    }
   ],
   "source": [
    "print(\"cs knock\")\n",
    "print(\"cs knock\")\n",
    "print(\"cs knock\")\n",
    "print(\"cs knock\")\n",
    "print(\"cs knock\")\n",
    "print(\"cs knock\")\n",
    "print(\"cs knock\")\n",
    "print(\"cs knock\")\n",
    "print(\"cs knock\")\n",
    "print(\"cs knock\")\n",
    "print(\"cs knock\")\n",
    "print(\"cs knock\")\n"
   ]
  },
  {
   "cell_type": "code",
   "execution_count": 13,
   "metadata": {},
   "outputs": [
    {
     "name": "stdout",
     "output_type": "stream",
     "text": [
      "CS Knocks\n",
      "CS Knocks\n",
      "CS Knocks\n",
      "CS Knocks\n",
      "CS Knocks\n",
      "CS Knocks\n",
      "CS Knocks\n",
      "CS Knocks\n",
      "CS Knocks\n",
      "CS Knocks\n",
      "CS Knocks\n",
      "CS Knocks\n"
     ]
    }
   ],
   "source": [
    "for i in range(0,12):\n",
    "    print(\"CS Knocks\")"
   ]
  },
  {
   "cell_type": "code",
   "execution_count": 15,
   "metadata": {},
   "outputs": [
    {
     "name": "stdout",
     "output_type": "stream",
     "text": [
      "1\n",
      "3\n",
      "5\n",
      "7\n",
      "9\n",
      "11\n",
      "13\n",
      "15\n",
      "17\n",
      "19\n",
      "21\n",
      "23\n",
      "25\n",
      "27\n",
      "29\n",
      "31\n",
      "33\n",
      "35\n",
      "37\n",
      "39\n",
      "41\n",
      "43\n",
      "45\n",
      "47\n",
      "49\n",
      "51\n",
      "53\n",
      "55\n",
      "57\n",
      "59\n",
      "61\n",
      "63\n",
      "65\n",
      "67\n",
      "69\n",
      "71\n",
      "73\n",
      "75\n",
      "77\n",
      "79\n",
      "81\n",
      "83\n",
      "85\n",
      "87\n",
      "89\n",
      "91\n",
      "93\n",
      "95\n",
      "97\n",
      "99\n"
     ]
    }
   ],
   "source": [
    "# odd numbers from 1 to 100\n",
    "for x in range(1,101,2):\n",
    "    print(x)"
   ]
  },
  {
   "cell_type": "code",
   "execution_count": 2,
   "metadata": {},
   "outputs": [
    {
     "name": "stdout",
     "output_type": "stream",
     "text": [
      "enter end point for odd numbers start from 110\n",
      "1\n",
      "3\n",
      "5\n",
      "7\n",
      "9\n"
     ]
    }
   ],
   "source": [
    "end=int(input(\"enter end point for odd numbers start from 1\"))\n",
    "for i in range(1,end,2):\n",
    "    print(i)"
   ]
  },
  {
   "cell_type": "code",
   "execution_count": 4,
   "metadata": {},
   "outputs": [
    {
     "name": "stdout",
     "output_type": "stream",
     "text": [
      "pak VS ind\n",
      "pak VS bng\n",
      "pak VS nwz\n",
      "sri VS ind\n",
      "sri VS bng\n",
      "sri VS nwz\n",
      "aus VS ind\n",
      "aus VS bng\n",
      "aus VS nwz\n"
     ]
    }
   ],
   "source": [
    "lst1=[\"pak\",\"sri\",\"aus\"]\n",
    "lst2=[\"ind\",\"bng\",\"nwz\"]\n",
    "for x in lst1:\n",
    "    for y in lst2:\n",
    "        print(x,\"VS\",y)"
   ]
  },
  {
   "cell_type": "code",
   "execution_count": 8,
   "metadata": {},
   "outputs": [
    {
     "name": "stdout",
     "output_type": "stream",
     "text": [
      "cs knocks\n"
     ]
    }
   ],
   "source": [
    "name = \"cs knocks\"\n",
    "name.upper()\n",
    "print(name.lower())"
   ]
  },
  {
   "cell_type": "code",
   "execution_count": 13,
   "metadata": {},
   "outputs": [
    {
     "data": {
      "text/plain": [
       "123"
      ]
     },
     "execution_count": 13,
     "metadata": {},
     "output_type": "execute_result"
    }
   ],
   "source": [
    "data={\n",
    "    0:\"Csknock\",\n",
    "    \"course\":\"python\",\n",
    "    \"student_id\":123\n",
    "}\n",
    "data[\"student_id\"]"
   ]
  },
  {
   "cell_type": "code",
   "execution_count": 18,
   "metadata": {},
   "outputs": [
    {
     "name": "stdout",
     "output_type": "stream",
     "text": [
      "{0: 'Csknock', 'course': 'python', 'student_id': 123, 'qualification': ['matric', 'inter', 'BSc']}\n"
     ]
    },
    {
     "data": {
      "text/plain": [
       "['matric', 'inter', 'BSc']"
      ]
     },
     "execution_count": 18,
     "metadata": {},
     "output_type": "execute_result"
    }
   ],
   "source": [
    "data={\n",
    "    0:\"Csknock\",\n",
    "    \"course\":\"python\",\n",
    "    \"student_id\":123,\n",
    "    \"qualification\":[\"matric\",\"inter\",\"BSc\"]\n",
    "}\n",
    "print(data)\n",
    "data[\"qualification\"]"
   ]
  },
  {
   "cell_type": "code",
   "execution_count": 27,
   "metadata": {},
   "outputs": [
    {
     "data": {
      "text/plain": [
       "{0: 'Csknock',\n",
       " 'student_id': 123,\n",
       " 'qualification': ['matric', 'inter', 'BSc'],\n",
       " 'new course': 'data science'}"
      ]
     },
     "execution_count": 27,
     "metadata": {},
     "output_type": "execute_result"
    }
   ],
   "source": [
    "data[\"new course\"]=\"data science\"\n",
    "data"
   ]
  },
  {
   "cell_type": "code",
   "execution_count": 39,
   "metadata": {},
   "outputs": [
    {
     "data": {
      "text/plain": [
       "{'name': 'umair', 'course': 'python', 'grade': 5}"
      ]
     },
     "execution_count": 39,
     "metadata": {},
     "output_type": "execute_result"
    }
   ],
   "source": [
    "new_data={\n",
    "    1:{\n",
    "        \"name\":\"ali\",\n",
    "        \"course\":\"python\",\n",
    "        \"grade\":1\n",
    "    },\n",
    "        2:{\n",
    "        \"name\":\"saqib\",\n",
    "        \"course\":\"python\",\n",
    "        \"grade\":3\n",
    "    },\n",
    "        3:{\n",
    "        \"name\":\"umair\",\n",
    "        \"course\":\"python\",\n",
    "        \"grade\":5\n",
    "    },\n",
    "    4:[\"asim\",\"python\",5]\n",
    "}\n",
    "# print(new_data[1])\n",
    "new_data[1][\"grade\"]=3\n",
    "new_data[1]\n",
    "del new_data[1][\"grade\"]\n",
    "new_data[3]"
   ]
  },
  {
   "cell_type": "code",
   "execution_count": 40,
   "metadata": {},
   "outputs": [
    {
     "data": {
      "text/plain": [
       "dict_keys([1, 2, 3, 4])"
      ]
     },
     "execution_count": 40,
     "metadata": {},
     "output_type": "execute_result"
    }
   ],
   "source": [
    "new_data.keys()"
   ]
  },
  {
   "cell_type": "code",
   "execution_count": 41,
   "metadata": {},
   "outputs": [
    {
     "data": {
      "text/plain": [
       "dict_values([{'name': 'ali', 'course': 'python'}, {'name': 'saqib', 'course': 'python', 'grade': 3}, {'name': 'umair', 'course': 'python', 'grade': 5}, ['asim', 'python', 5]])"
      ]
     },
     "execution_count": 41,
     "metadata": {},
     "output_type": "execute_result"
    }
   ],
   "source": [
    "new_data.values()"
   ]
  },
  {
   "cell_type": "code",
   "execution_count": 42,
   "metadata": {},
   "outputs": [
    {
     "data": {
      "text/plain": [
       "dict_items([(1, {'name': 'ali', 'course': 'python'}), (2, {'name': 'saqib', 'course': 'python', 'grade': 3}), (3, {'name': 'umair', 'course': 'python', 'grade': 5}), (4, ['asim', 'python', 5])])"
      ]
     },
     "execution_count": 42,
     "metadata": {},
     "output_type": "execute_result"
    }
   ],
   "source": [
    "new_data.items()"
   ]
  },
  {
   "cell_type": "code",
   "execution_count": 45,
   "metadata": {},
   "outputs": [
    {
     "data": {
      "text/plain": [
       "{1: {'name': 'ali', 'course': 'python'},\n",
       " 2: {'name': 'saqib', 'course': 'python', 'grade': 3},\n",
       " 3: {'name': 'umair', 'course': 'python', 'grade': 5},\n",
       " 4: ['asim', 'python', 5]}"
      ]
     },
     "execution_count": 45,
     "metadata": {},
     "output_type": "execute_result"
    }
   ],
   "source": [
    "dic_lst=[\"csknocks\",\"hello\",\"world\",new_data]\n",
    "dic_lst\n",
    "dic_lst[3]"
   ]
  },
  {
   "cell_type": "code",
   "execution_count": 49,
   "metadata": {},
   "outputs": [
    {
     "data": {
      "text/plain": [
       "['csknocks',\n",
       " 'hello',\n",
       " 'world',\n",
       " {1: {'name': 'ali', 'course': 'python'},\n",
       "  2: {'name': 'saqib', 'course': 'python', 'grade': 3},\n",
       "  3: {'name': 'umair', 'course': 'python', 'grade': 5},\n",
       "  4: ['asim', 'python', 5]},\n",
       " {0: 'Csknock',\n",
       "  'student_id': 123,\n",
       "  'qualification': ['matric', 'inter', 'BSc'],\n",
       "  'new course': 'data science'}]"
      ]
     },
     "execution_count": 49,
     "metadata": {},
     "output_type": "execute_result"
    }
   ],
   "source": [
    "# dic_lst.append(data)\n",
    "dic_lst.pop()\n",
    "dic_lst"
   ]
  },
  {
   "cell_type": "code",
   "execution_count": 53,
   "metadata": {},
   "outputs": [
    {
     "name": "stdout",
     "output_type": "stream",
     "text": [
      "10\n"
     ]
    }
   ],
   "source": [
    "num1=4\n",
    "num2=6\n",
    "def add():\n",
    "    print(num1+num2)\n",
    "add()"
   ]
  },
  {
   "cell_type": "code",
   "execution_count": 54,
   "metadata": {},
   "outputs": [
    {
     "name": "stdout",
     "output_type": "stream",
     "text": [
      "CS Knocks\n"
     ]
    }
   ],
   "source": [
    "def prnt(word):\n",
    "    print(word)\n",
    "prnt(\"CS Knocks\")"
   ]
  },
  {
   "cell_type": "code",
   "execution_count": 57,
   "metadata": {},
   "outputs": [
    {
     "name": "stdout",
     "output_type": "stream",
     "text": [
      "5\n"
     ]
    }
   ],
   "source": [
    "def sub(num1,num2):\n",
    "    print(num1-num2)\n",
    "sub(7,2)"
   ]
  },
  {
   "cell_type": "code",
   "execution_count": 63,
   "metadata": {},
   "outputs": [
    {
     "name": "stdout",
     "output_type": "stream",
     "text": [
      "welcome   ali\n"
     ]
    }
   ],
   "source": [
    "def greet(str1,str2=\"welcome\"):\n",
    "    print(str2,\" \",str1)\n",
    "greet(\"ali\")"
   ]
  },
  {
   "cell_type": "code",
   "execution_count": 65,
   "metadata": {},
   "outputs": [
    {
     "data": {
      "text/plain": [
       "10.0"
      ]
     },
     "execution_count": 65,
     "metadata": {},
     "output_type": "execute_result"
    }
   ],
   "source": [
    "def perc(num,per):\n",
    "    return num*(per/100)\n",
    "perc(200,5)"
   ]
  },
  {
   "cell_type": "code",
   "execution_count": 68,
   "metadata": {},
   "outputs": [
    {
     "name": "stdout",
     "output_type": "stream",
     "text": [
      "2 \n",
      " 4 \n",
      " (6, 8, 9, 0)\n"
     ]
    }
   ],
   "source": [
    "def tplfn(num1,num2,*all_num):\n",
    "    print(num1,\"\\n\",num2,\"\\n\",all_num)\n",
    "tplfn(2,4,6,8,9,0)"
   ]
  },
  {
   "cell_type": "code",
   "execution_count": 78,
   "metadata": {},
   "outputs": [
    {
     "name": "stdout",
     "output_type": "stream",
     "text": [
      "a \n",
      " 4 \n",
      " {'name': 'ali', 'course': 'python', 'grade': 2}\n"
     ]
    }
   ],
   "source": [
    "def dicfn(num1=\"a\",num2=4,**my_dict):\n",
    "    print(num1,\"\\n\",num2,\"\\n\",my_dict)\n",
    "dicfn(name=\"ali\",course=\"python\",grade=2)"
   ]
  },
  {
   "cell_type": "code",
   "execution_count": 85,
   "metadata": {},
   "outputs": [
    {
     "name": "stdout",
     "output_type": "stream",
     "text": [
      "2\n"
     ]
    },
    {
     "data": {
      "text/plain": [
       "2"
      ]
     },
     "execution_count": 85,
     "metadata": {},
     "output_type": "execute_result"
    }
   ],
   "source": [
    "def lclvar(word,find):\n",
    "    global count\n",
    "    count=0\n",
    "    for i in word:\n",
    "        if i==find:\n",
    "            count+=1\n",
    "    print(count)\n",
    "lclvar(\"csknocks\",\"s\")\n",
    "count"
   ]
  },
  {
   "cell_type": "code",
   "execution_count": null,
   "metadata": {},
   "outputs": [],
   "source": []
  }
 ],
 "metadata": {
  "kernelspec": {
   "display_name": "Python 3",
   "language": "python",
   "name": "python3"
  },
  "language_info": {
   "codemirror_mode": {
    "name": "ipython",
    "version": 3
   },
   "file_extension": ".py",
   "mimetype": "text/x-python",
   "name": "python",
   "nbconvert_exporter": "python",
   "pygments_lexer": "ipython3",
   "version": "3.7.0"
  }
 },
 "nbformat": 4,
 "nbformat_minor": 2
}
